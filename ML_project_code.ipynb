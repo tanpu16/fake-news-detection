{
 "cells": [
  {
   "cell_type": "markdown",
   "id": "governing-anniversary",
   "metadata": {},
   "source": [
    "# Import required Libraries"
   ]
  },
  {
   "cell_type": "code",
   "execution_count": 30,
   "id": "requested-service",
   "metadata": {},
   "outputs": [
    {
     "name": "stderr",
     "output_type": "stream",
     "text": [
      "[nltk_data] Downloading package stopwords to\n",
      "[nltk_data]     C:\\Users\\Priyanka\\AppData\\Roaming\\nltk_data...\n",
      "[nltk_data]   Package stopwords is already up-to-date!\n"
     ]
    }
   ],
   "source": [
    "import numpy as np\n",
    "import pandas as pd\n",
    "import itertools\n",
    "from sklearn.model_selection import train_test_split\n",
    "from sklearn.feature_extraction.text import TfidfVectorizer\n",
    "from sklearn.linear_model import PassiveAggressiveClassifier,LogisticRegression\n",
    "from sklearn.metrics import accuracy_score, confusion_matrix\n",
    "from sklearn import naive_bayes, svm\n",
    "import random\n",
    "import warnings\n",
    "import string\n",
    "import numpy as np\n",
    "warnings.filterwarnings(\"ignore\")\n",
    "from sklearn.utils import shuffle\n",
    "from nltk.tokenize import word_tokenize\n",
    "import nltk\n",
    "nltk.download('stopwords')\n",
    "from nltk.corpus import stopwords\n",
    "from nltk.stem.snowball import SnowballStemmer\n",
    "stemmer = SnowballStemmer(\"english\")\n",
    "import re\n",
    "from sklearn.metrics import plot_confusion_matrix, ConfusionMatrixDisplay\n",
    "from sklearn.feature_extraction.text import CountVectorizer\n",
    "from sklearn.metrics import roc_curve, f1_score, roc_auc_score\n",
    "from matplotlib import pyplot"
   ]
  },
  {
   "cell_type": "markdown",
   "id": "specialized-shuttle",
   "metadata": {},
   "source": [
    "# Reading data"
   ]
  },
  {
   "cell_type": "code",
   "execution_count": 31,
   "id": "outstanding-destruction",
   "metadata": {},
   "outputs": [],
   "source": [
    "#dataset1\n",
    "dataset1 = pd.read_csv('train.csv')\n",
    "dataset1.text = dataset1.text.astype(str)\n",
    "\n",
    "#dataset2\n",
    "df_fake = pd.read_csv('Fake.csv')\n",
    "df_fake.insert(4,'label',0)\n",
    "df_true = pd.read_csv('True.csv')\n",
    "df_true.insert(4,'label',1)\n",
    "frames=[df_fake,df_true]\n",
    "dataset2=pd.concat(frames)\n",
    "dataset2=shuffle(dataset2)\n",
    "dataset2.reset_index(inplace=True)\n",
    "\n",
    "#dataset3\n",
    "dataset3 = pd.read_csv('train.csv')\n",
    "dataset3.text = dataset3.text.astype(str)"
   ]
  },
  {
   "cell_type": "markdown",
   "id": "powered-carroll",
   "metadata": {},
   "source": [
    "# ********Data Preparation********"
   ]
  },
  {
   "cell_type": "markdown",
   "id": "american-tension",
   "metadata": {},
   "source": [
    "# Data cleaning"
   ]
  },
  {
   "cell_type": "code",
   "execution_count": 32,
   "id": "opponent-fields",
   "metadata": {},
   "outputs": [],
   "source": [
    "#dataset1\n",
    "dataset1.drop(['title'],axis=1,inplace=True)\n",
    "dataset1.drop(['author'],axis=1,inplace=True)\n",
    "\n",
    "#dataset2\n",
    "dataset2.drop([\"date\"],axis=1,inplace=True)\n",
    "dataset2.drop([\"title\"],axis=1,inplace=True)\n",
    "\n",
    "#dataset3 imbalanced\n",
    "dataset3.drop(['title'],axis=1,inplace=True)\n",
    "dataset3.drop(['author'],axis=1,inplace=True)"
   ]
  },
  {
   "cell_type": "code",
   "execution_count": 33,
   "id": "chief-musician",
   "metadata": {},
   "outputs": [],
   "source": [
    "#make dataset2 imbalanced\n",
    "data_t = dataset3.loc[(dataset3['label']==1)]\n",
    "data_f = dataset3.loc[(dataset3['label']==0)]\n",
    "\n",
    "data_t.reset_index(inplace=True)\n",
    "data_f.reset_index(inplace = True)\n",
    "data_t.drop(labels=['index'],axis=1,inplace=True)\n",
    "data_f.drop(labels=['index'],axis=1,inplace=True)\n",
    "\n",
    "data_f.drop(labels=range(1500,10000),axis=0,inplace=True)\n",
    "# data_f.drop(labels=range(3400,3900),axis=0,inplace=True)\n",
    "# data_f.drop(labels=range(4200,8800),axis=0,inplace=True)\n",
    "\n",
    "frame=[data_t,data_f]\n",
    "dataset3=pd.concat(frame)\n",
    "dataset3=shuffle(dataset3)\n",
    "dataset3.reset_index(inplace=True)\n",
    "dataset3.drop(labels=['index'],axis=1,inplace=True)"
   ]
  },
  {
   "cell_type": "code",
   "execution_count": 34,
   "id": "visible-prairie",
   "metadata": {},
   "outputs": [],
   "source": [
    "#dataset1\n",
    "dataset1['text'].dropna(inplace = True)\n",
    "\n",
    "#dataset2\n",
    "dataset2['text'].dropna(inplace=True)\n",
    "# data['text'].isnull().any().sum()\n",
    "\n",
    "#dataset3\n",
    "dataset3['text'].dropna(inplace = True)"
   ]
  },
  {
   "cell_type": "code",
   "execution_count": 35,
   "id": "prescription-wichita",
   "metadata": {},
   "outputs": [],
   "source": [
    "#remove panctuations and convert text to lowercase\n",
    "\n",
    "def data_cleaning(text):\n",
    "    #text=tostring(text)\n",
    "    text = text.lower()\n",
    "    wordList = [word for word in text if word not in string.punctuation]\n",
    "    clean_str = ''.join(wordList)\n",
    "    return clean_str"
   ]
  },
  {
   "cell_type": "code",
   "execution_count": 36,
   "id": "rolled-turtle",
   "metadata": {},
   "outputs": [],
   "source": [
    "#dataset1\n",
    "dataset1['text'] = dataset1['text'].apply(data_cleaning)\n",
    "\n",
    "#dataset2\n",
    "dataset2['text'] = dataset2['text'].apply(data_cleaning)\n",
    "\n",
    "#dataset3\n",
    "dataset3['text'] = dataset3['text'].apply(data_cleaning)"
   ]
  },
  {
   "cell_type": "code",
   "execution_count": 37,
   "id": "super-praise",
   "metadata": {},
   "outputs": [],
   "source": [
    "# #remove stopwords\n",
    "# #print(stopwords.fileids())\n",
    "# stop_words = stopwords.words('english')\n",
    "\n",
    "# def remove_stop_words(text):\n",
    "#     wordlist = list()\n",
    "#     split_words = re.sub('[^a-zA-Z0-9 ]','',text).split()\n",
    "#     wordlist = [stemmer.stem(word) for word in split_words]\n",
    "#     wordlist = [word for word in wordlist if not word in stop_words]\n",
    "#     finalstr= ' '.join(wordlist)\n",
    "#     return finalstr"
   ]
  },
  {
   "cell_type": "code",
   "execution_count": 38,
   "id": "attended-colonial",
   "metadata": {},
   "outputs": [],
   "source": [
    "# #dataset1\n",
    "# dataset1['text'] = dataset1['text'].apply(remove_stop_words)\n",
    "\n",
    "# #dataset3\n",
    "# data['text']=data['text'].apply(remove_stop_words)"
   ]
  },
  {
   "cell_type": "markdown",
   "id": "august-marks",
   "metadata": {},
   "source": [
    "# Data Visualization"
   ]
  },
  {
   "cell_type": "code",
   "execution_count": 39,
   "id": "composed-amplifier",
   "metadata": {},
   "outputs": [
    {
     "name": "stdout",
     "output_type": "stream",
     "text": [
      "label\n",
      "0    10387\n",
      "1    10413\n",
      "Name: text, dtype: int64\n"
     ]
    },
    {
     "data": {
      "text/plain": [
       "<AxesSubplot:xlabel='label'>"
      ]
     },
     "execution_count": 39,
     "metadata": {},
     "output_type": "execute_result"
    },
    {
     "data": {
      "image/png": "[encoded data removed]",
      "text/plain": [
       "<Figure size 432x288 with 1 Axes>"
      ]
     },
     "metadata": {
      "needs_background": "light"
     },
     "output_type": "display_data"
    }
   ],
   "source": [
    "#dataset1\n",
    "print(dataset1.groupby(['label'])['text'].count()) #0-fake 1-true\n",
    "dataset1.groupby(['label'])['text'].count().plot(kind='bar')"
   ]
  },
  {
   "cell_type": "code",
   "execution_count": 40,
   "id": "genuine-flashing",
   "metadata": {},
   "outputs": [
    {
     "name": "stdout",
     "output_type": "stream",
     "text": [
      "subject\n",
      "Government News     1570\n",
      "Middle-east          778\n",
      "News                9050\n",
      "US_News              783\n",
      "left-news           4459\n",
      "politics            6841\n",
      "politicsNews       11272\n",
      "worldnews          10145\n",
      "Name: text, dtype: int64\n"
     ]
    },
    {
     "data": {
      "text/plain": [
       "<AxesSubplot:xlabel='subject'>"
      ]
     },
     "execution_count": 40,
     "metadata": {},
     "output_type": "execute_result"
    },
    {
     "data": {
      "image/png": "[encoded data removed]",
      "text/plain": [
       "<Figure size 432x288 with 1 Axes>"
      ]
     },
     "metadata": {
      "needs_background": "light"
     },
     "output_type": "display_data"
    }
   ],
   "source": [
    "#dataset2\n",
    "print(dataset2.groupby(['subject'])['text'].count())\n",
    "dataset2.groupby(['subject'])['text'].count().plot(kind='bar')"
   ]
  },
  {
   "cell_type": "code",
   "execution_count": 41,
   "id": "declared-transport",
   "metadata": {},
   "outputs": [
    {
     "name": "stdout",
     "output_type": "stream",
     "text": [
      "label\n",
      "0    23481\n",
      "1    21417\n",
      "Name: text, dtype: int64\n"
     ]
    },
    {
     "data": {
      "text/plain": [
       "<AxesSubplot:xlabel='label'>"
      ]
     },
     "execution_count": 41,
     "metadata": {},
     "output_type": "execute_result"
    },
    {
     "data": {
      "image/png": "[encoded data removed]",
      "text/plain": [
       "<Figure size 432x288 with 1 Axes>"
      ]
     },
     "metadata": {
      "needs_background": "light"
     },
     "output_type": "display_data"
    }
   ],
   "source": [
    "#dataset2\n",
    "print(dataset2.groupby(['label'])['text'].count()) #0-fake 1-true\n",
    "dataset2.groupby(['label'])['text'].count().plot(kind='bar')"
   ]
  },
  {
   "cell_type": "code",
   "execution_count": 42,
   "id": "dried-charm",
   "metadata": {},
   "outputs": [
    {
     "name": "stdout",
     "output_type": "stream",
     "text": [
      "label\n",
      "0     1887\n",
      "1    10413\n",
      "Name: text, dtype: int64\n"
     ]
    },
    {
     "data": {
      "text/plain": [
       "<AxesSubplot:xlabel='label'>"
      ]
     },
     "execution_count": 42,
     "metadata": {},
     "output_type": "execute_result"
    },
    {
     "data": {
      "image/png": "[encoded data removed]",
      "text/plain": [
       "<Figure size 432x288 with 1 Axes>"
      ]
     },
     "metadata": {
      "needs_background": "light"
     },
     "output_type": "display_data"
    }
   ],
   "source": [
    "#dataset3\n",
    "print(dataset3.groupby(['label'])['text'].count())\n",
    "dataset3.groupby(['label'])['text'].count().plot(kind='bar')"
   ]
  },
  {
   "cell_type": "markdown",
   "id": "pointed-framework",
   "metadata": {},
   "source": [
    "# Train Test split"
   ]
  },
  {
   "cell_type": "code",
   "execution_count": 43,
   "id": "junior-generation",
   "metadata": {},
   "outputs": [],
   "source": [
    "# dataset1\n",
    "x1_train,x1_validate,y1_train,y1_validate = train_test_split(dataset1['text'],dataset1['label'],test_size=0.2,random_state=1000)"
   ]
  },
  {
   "cell_type": "code",
   "execution_count": 44,
   "id": "restricted-wagner",
   "metadata": {},
   "outputs": [],
   "source": [
    "#dataset2\n",
    "x2_train,x2_validate,y2_train,y2_validate = train_test_split(dataset2['text'],dataset2['label'],test_size=0.2,random_state=1000)"
   ]
  },
  {
   "cell_type": "code",
   "execution_count": 45,
   "id": "handled-consortium",
   "metadata": {},
   "outputs": [],
   "source": [
    "#dataset3\n",
    "x3_train,x3_validate,y3_train,y3_validate = train_test_split(dataset3['text'],dataset3['label'],test_size=0.2,random_state=1000)"
   ]
  },
  {
   "cell_type": "code",
   "execution_count": 46,
   "id": "apparent-tournament",
   "metadata": {},
   "outputs": [
    {
     "name": "stdout",
     "output_type": "stream",
     "text": [
      "label 0 count in imabalced dataset is %d 381\n",
      "label 1 count in imabalced dataset is %d 2078\n"
     ]
    }
   ],
   "source": [
    "count_0 =count_1= 0\n",
    "\n",
    "for i in range (1,y3_validate.count()):\n",
    "    if y3_validate.iloc[i] == 1:\n",
    "        count_1+=1\n",
    "    else:\n",
    "        count_0+=1\n",
    "\n",
    "print(\"label 0 count in imabalced dataset is %d\",count_0)\n",
    "print(\"label 1 count in imabalced dataset is %d\",count_1)"
   ]
  },
  {
   "cell_type": "markdown",
   "id": "quantitative-sellers",
   "metadata": {},
   "source": [
    "# Required Menthods"
   ]
  },
  {
   "cell_type": "markdown",
   "id": "proprietary-grant",
   "metadata": {},
   "source": [
    "# Confusion Matrix display method"
   ]
  },
  {
   "cell_type": "code",
   "execution_count": 47,
   "id": "visible-newport",
   "metadata": {},
   "outputs": [],
   "source": [
    "def display_confusion_matrix(y_validate,pred):\n",
    "    confusion_mat = confusion_matrix(y_validate,pred,labels=[1,0])\n",
    "    disp = ConfusionMatrixDisplay(confusion_matrix=confusion_mat, display_labels=['True','False'])\n",
    "    disp.plot()"
   ]
  },
  {
   "cell_type": "markdown",
   "id": "excess-cheese",
   "metadata": {},
   "source": [
    "# ROC AUC curve display method"
   ]
  },
  {
   "cell_type": "code",
   "execution_count": 48,
   "id": "atmospheric-still",
   "metadata": {},
   "outputs": [],
   "source": [
    "def display_roc_auc(y_validate,prediction,model_name):\n",
    "    # generate a no skill prediction (majority class)  \n",
    "    ns_probs = [0 for _ in range(len(y_validate))]  #diagonal\n",
    "    #calculate roc auc score\n",
    "    ns_auc = roc_auc_score(y_validate,ns_probs)\n",
    "    auc = roc_auc_score(y_validate,prediction)\n",
    "    print('No skill  : ROC AUC = %.3f'%(ns_auc))\n",
    "    print(model_name+': ROC AUC = %.3f'%(auc))\n",
    "    ns_fpr,ns_tpr,ns_threshold = roc_curve(y_validate,ns_probs)\n",
    "    fpr,tpr,thresholds = roc_curve(y_validate,prediction)\n",
    "    pyplot.plot(ns_fpr,ns_tpr,marker='.',label='No Skill')\n",
    "    pyplot.plot(fpr,tpr,marker='.',label=model_name)\n",
    "    pyplot.xlabel('False Positive Rate')\n",
    "    pyplot.ylabel('True Positive Rate')\n",
    "    pyplot.legend()\n",
    "    pyplot.show()"
   ]
  },
  {
   "cell_type": "markdown",
   "id": "injured-archives",
   "metadata": {},
   "source": [
    "# Naive Bayes method for max accuracy for alpha(smoothing) range"
   ]
  },
  {
   "cell_type": "code",
   "execution_count": 49,
   "id": "parallel-upset",
   "metadata": {},
   "outputs": [],
   "source": [
    "def max_accuracy_naive(vect_x_train,y_train,vect_x_validate,y_validate,x_validate,alpha_start,alpha_end):\n",
    "    max_accuracy =req_alpha= 0\n",
    "    naive_pred = np.array(x_validate.size)\n",
    "    for x in range(100):\n",
    "        alpha = random.uniform(alpha_start,alpha_end)\n",
    "        naive=naive_bayes.MultinomialNB(alpha)\n",
    "        naive.fit(vect_x_train,y_train)\n",
    "        naive_pred=naive.predict(vect_x_validate)\n",
    "        accuracy = accuracy_score(naive_pred, y_validate)*100\n",
    "        if max_accuracy < accuracy:\n",
    "            max_accuracy = accuracy\n",
    "            req_alpha = alpha\n",
    "    print(\"alpha value -> %f \",round(req_alpha,5))\n",
    "    print(\"Naive Accuracy Score -> %f \",round(max_accuracy,2))\n",
    "    return naive_pred"
   ]
  },
  {
   "cell_type": "markdown",
   "id": "african-claim",
   "metadata": {},
   "source": [
    "# [Part A] Vectorizing and applying bags of words (CountVectorizer)"
   ]
  },
  {
   "cell_type": "code",
   "execution_count": 50,
   "id": "medium-chemical",
   "metadata": {},
   "outputs": [],
   "source": [
    "#dataset1\n",
    "vectorizer1 = CountVectorizer(stop_words='english',analyzer='word')\n",
    "\n",
    "vectorizer1.fit(x1_train)\n",
    "vect_x1_train = vectorizer1.transform(x1_train)\n",
    "vect_x1_validate = vectorizer1.transform(x1_validate)\n",
    "\n",
    "#dataset2\n",
    "vectorizer2 = CountVectorizer(stop_words='english',analyzer='word')\n",
    "\n",
    "vectorizer2.fit(x2_train)\n",
    "vect_x2_train = vectorizer2.transform(x2_train)\n",
    "vect_x2_validate = vectorizer2.transform(x2_validate)\n",
    "\n",
    "#dataset3\n",
    "vectorizer3 = CountVectorizer(stop_words='english',analyzer='word')\n",
    "\n",
    "vectorizer3.fit(x3_train)\n",
    "vect_x3_train = vectorizer3.transform(x3_train)\n",
    "vect_x3_validate = vectorizer3.transform(x3_validate)\n"
   ]
  },
  {
   "cell_type": "markdown",
   "id": "combined-yeast",
   "metadata": {},
   "source": [
    "# [Part A - Model 1] PAC -> PassiveAggressive Classifier and Evaluation Methods"
   ]
  },
  {
   "cell_type": "markdown",
   "id": "amazing-strike",
   "metadata": {},
   "source": [
    "# PAC model and accuracy score Dataset1"
   ]
  },
  {
   "cell_type": "code",
   "execution_count": 220,
   "id": "freelance-coverage",
   "metadata": {},
   "outputs": [
    {
     "name": "stdout",
     "output_type": "stream",
     "text": [
      "PassiveAggressive Accuracy Score ->  95.38\n"
     ]
    }
   ],
   "source": [
    "#passiveaggressive classifier for dataset1\n",
    "pac1=PassiveAggressiveClassifier(C=0.0001,random_state=5,max_iter=1000)\n",
    "pac1.fit(vect_x1_train,y1_train)\n",
    "#predict class\n",
    "pac1_pred=pac1.predict(vect_x1_validate)\n",
    "score= accuracy_score(y1_validate,pac1_pred)\n",
    "print(\"PassiveAggressive Accuracy Score -> \",round(accuracy_score(pac1_pred, y1_validate)*100,2))"
   ]
  },
  {
   "cell_type": "markdown",
   "id": "intermediate-liberal",
   "metadata": {},
   "source": [
    "# Confusion matrix"
   ]
  },
  {
   "cell_type": "code",
   "execution_count": 221,
   "id": "technical-aerospace",
   "metadata": {},
   "outputs": [
    {
     "data": {
      "image/png": "[encoded data removed]",
      "text/plain": [
       "<Figure size 432x288 with 2 Axes>"
      ]
     },
     "metadata": {
      "needs_background": "light"
     },
     "output_type": "display_data"
    }
   ],
   "source": [
    "display_confusion_matrix(y1_validate,pac1_pred)"
   ]
  },
  {
   "cell_type": "markdown",
   "id": "grand-algebra",
   "metadata": {},
   "source": [
    "# ROC-AUC"
   ]
  },
  {
   "cell_type": "code",
   "execution_count": 222,
   "id": "suited-accreditation",
   "metadata": {},
   "outputs": [
    {
     "name": "stdout",
     "output_type": "stream",
     "text": [
      "No skill  : ROC AUC = 0.500\n",
      "PassiveAggressive: ROC AUC = 0.954\n"
     ]
    },
    {
     "data": {
      "image/png": "[encoded data removed]",
      "text/plain": [
       "<Figure size 432x288 with 1 Axes>"
      ]
     },
     "metadata": {
      "needs_background": "light"
     },
     "output_type": "display_data"
    }
   ],
   "source": [
    "#passiveAggressive - dataset1\n",
    "display_roc_auc(y1_validate,pac1_pred,'PassiveAggressive')"
   ]
  },
  {
   "cell_type": "markdown",
   "id": "neural-stuff",
   "metadata": {},
   "source": [
    "# F1-score"
   ]
  },
  {
   "cell_type": "code",
   "execution_count": 223,
   "id": "banned-shark",
   "metadata": {},
   "outputs": [
    {
     "name": "stdout",
     "output_type": "stream",
     "text": [
      "PassiveAggressive : F1-score = 0.955 \n"
     ]
    }
   ],
   "source": [
    "pac1_f1_Score = f1_score(y1_validate,pac1_pred)\n",
    "print(\"PassiveAggressive : F1-score = %.3f \"%pac1_f1_Score)"
   ]
  },
  {
   "cell_type": "markdown",
   "id": "choice-testament",
   "metadata": {},
   "source": [
    "# PAC model and accuracy score - Dataset2"
   ]
  },
  {
   "cell_type": "code",
   "execution_count": 224,
   "id": "thirty-capital",
   "metadata": {},
   "outputs": [
    {
     "name": "stdout",
     "output_type": "stream",
     "text": [
      "PassiveAggressive Accuracy Score ->  99.23\n"
     ]
    }
   ],
   "source": [
    "#for dataset2\n",
    "pac2=PassiveAggressiveClassifier(C=1.0,random_state=5,max_iter=1000)\n",
    "pac2.fit(vect_x2_train,y2_train)\n",
    "pac2_pred=pac2.predict(vect_x2_validate)\n",
    "score= accuracy_score(y2_validate,pac2_pred)\n",
    "print(\"PassiveAggressive Accuracy Score -> \",round(accuracy_score(pac2_pred, y2_validate)*100,2))"
   ]
  },
  {
   "cell_type": "markdown",
   "id": "union-basketball",
   "metadata": {},
   "source": [
    "# Confusion Matrix"
   ]
  },
  {
   "cell_type": "code",
   "execution_count": 225,
   "id": "tracked-seattle",
   "metadata": {},
   "outputs": [
    {
     "data": {
      "image/png": "[encoded data removed]",
      "text/plain": [
       "<Figure size 432x288 with 2 Axes>"
      ]
     },
     "metadata": {
      "needs_background": "light"
     },
     "output_type": "display_data"
    }
   ],
   "source": [
    "display_confusion_matrix(y2_validate,pac2_pred)"
   ]
  },
  {
   "cell_type": "markdown",
   "id": "convinced-mexican",
   "metadata": {},
   "source": [
    "# ROC AUC curve"
   ]
  },
  {
   "cell_type": "code",
   "execution_count": 226,
   "id": "static-completion",
   "metadata": {},
   "outputs": [
    {
     "name": "stdout",
     "output_type": "stream",
     "text": [
      "No skill  : ROC AUC = 0.500\n",
      "PassiveAggressive: ROC AUC = 0.992\n"
     ]
    },
    {
     "data": {
      "image/png": "[encoded data removed]",
      "text/plain": [
       "<Figure size 432x288 with 1 Axes>"
      ]
     },
     "metadata": {
      "needs_background": "light"
     },
     "output_type": "display_data"
    }
   ],
   "source": [
    "#passiveAggressive - dataset2\n",
    "display_roc_auc(y2_validate,pac2_pred,'PassiveAggressive')"
   ]
  },
  {
   "cell_type": "markdown",
   "id": "respective-coordinate",
   "metadata": {},
   "source": [
    "# F1-score"
   ]
  },
  {
   "cell_type": "code",
   "execution_count": 227,
   "id": "verbal-client",
   "metadata": {},
   "outputs": [
    {
     "name": "stdout",
     "output_type": "stream",
     "text": [
      "PassiveAggressive : F1-score = 0.992 \n"
     ]
    }
   ],
   "source": [
    "pac2_f1_Score = f1_score(y2_validate,pac2_pred)\n",
    "print(\"PassiveAggressive : F1-score = %.3f \"%pac2_f1_Score)"
   ]
  },
  {
   "cell_type": "code",
   "execution_count": 229,
   "id": "exclusive-south",
   "metadata": {},
   "outputs": [
    {
     "name": "stdout",
     "output_type": "stream",
     "text": [
      "PassiveAggressive Accuracy Score ->  94.51\n",
      "PassiveAggressive : F1-score = 0.968 \n"
     ]
    }
   ],
   "source": [
    "#dataset3 imbalanced\n",
    "pac3=PassiveAggressiveClassifier(C=1.0,random_state=5,max_iter=1000)\n",
    "pac3.fit(vect_x3_train,y3_train)\n",
    "pac3_pred=pac3.predict(vect_x3_validate)\n",
    "score= accuracy_score(y3_validate,pac3_pred)\n",
    "print(\"PassiveAggressive Accuracy Score -> \",round(accuracy_score(pac3_pred, y3_validate)*100,2))\n",
    "pac3_f1_Score = f1_score(y3_validate,pac3_pred)\n",
    "print(\"PassiveAggressive : F1-score = %.3f \"%pac3_f1_Score)"
   ]
  },
  {
   "cell_type": "markdown",
   "id": "geographic-medline",
   "metadata": {},
   "source": [
    "# [Part A - Model 2] NB -> Naive Bayes classifier and Evaluation Methods"
   ]
  },
  {
   "cell_type": "markdown",
   "id": "geographic-export",
   "metadata": {},
   "source": [
    "# NB model and Accuracy score - Dataset1"
   ]
  },
  {
   "cell_type": "code",
   "execution_count": 230,
   "id": "universal-philadelphia",
   "metadata": {},
   "outputs": [
    {
     "name": "stdout",
     "output_type": "stream",
     "text": [
      "alpha value -> %f  0.00025\n",
      "Naive Accuracy Score -> %f  93.53\n"
     ]
    }
   ],
   "source": [
    "#for dataset1\n",
    "alpha_start = 0.00001 \n",
    "alpha_end = 0.001\n",
    "naive1_pred = max_accuracy_naive(vect_x1_train,y1_train,vect_x1_validate,y1_validate,x1_validate,alpha_start,alpha_end)"
   ]
  },
  {
   "cell_type": "markdown",
   "id": "local-blackjack",
   "metadata": {},
   "source": [
    "# Confusion Matrix"
   ]
  },
  {
   "cell_type": "code",
   "execution_count": 231,
   "id": "mobile-oracle",
   "metadata": {},
   "outputs": [
    {
     "data": {
      "image/png": "[encoded data removed]",
      "text/plain": [
       "<Figure size 432x288 with 2 Axes>"
      ]
     },
     "metadata": {
      "needs_background": "light"
     },
     "output_type": "display_data"
    }
   ],
   "source": [
    "display_confusion_matrix(y1_validate,naive1_pred)"
   ]
  },
  {
   "cell_type": "markdown",
   "id": "advanced-composite",
   "metadata": {},
   "source": [
    "# ROC AUC curve"
   ]
  },
  {
   "cell_type": "code",
   "execution_count": 232,
   "id": "intensive-radio",
   "metadata": {},
   "outputs": [
    {
     "name": "stdout",
     "output_type": "stream",
     "text": [
      "No skill  : ROC AUC = 0.500\n",
      "Naive Bayes: ROC AUC = 0.933\n"
     ]
    },
    {
     "data": {
      "image/png": "[encoded data removed]",
      "text/plain": [
       "<Figure size 432x288 with 1 Axes>"
      ]
     },
     "metadata": {
      "needs_background": "light"
     },
     "output_type": "display_data"
    }
   ],
   "source": [
    "#Naive Bayes - dataset1\n",
    "display_roc_auc(y1_validate,naive1_pred,'Naive Bayes')"
   ]
  },
  {
   "cell_type": "markdown",
   "id": "convenient-challenge",
   "metadata": {},
   "source": [
    "# F1-Score"
   ]
  },
  {
   "cell_type": "code",
   "execution_count": 233,
   "id": "respiratory-zoning",
   "metadata": {},
   "outputs": [
    {
     "name": "stdout",
     "output_type": "stream",
     "text": [
      "Naive Bayes : F1-score = 0.932 \n"
     ]
    }
   ],
   "source": [
    "naive1_f1_Score = f1_score(y1_validate,naive1_pred)\n",
    "print(\"Naive Bayes : F1-score = %.3f \"%naive1_f1_Score)"
   ]
  },
  {
   "cell_type": "markdown",
   "id": "bacterial-replica",
   "metadata": {},
   "source": [
    "# NB model and Accuracy score - Dataset1 (alpha = 0.00001)"
   ]
  },
  {
   "cell_type": "code",
   "execution_count": 234,
   "id": "representative-anatomy",
   "metadata": {},
   "outputs": [
    {
     "name": "stdout",
     "output_type": "stream",
     "text": [
      "Naive Bayes Accuracy Score ->  93.41\n"
     ]
    }
   ],
   "source": [
    "naive1=naive_bayes.MultinomialNB(alpha=0.00007)\n",
    "naive1.fit(vect_x1_train,y1_train)\n",
    "naive1_pred=naive1.predict(vect_x1_validate)\n",
    "print(\"Naive Bayes Accuracy Score -> \",round(accuracy_score(naive1_pred, y1_validate)*100,2))"
   ]
  },
  {
   "cell_type": "markdown",
   "id": "loving-effects",
   "metadata": {},
   "source": [
    "# confusion matrix"
   ]
  },
  {
   "cell_type": "code",
   "execution_count": 235,
   "id": "numerous-breeding",
   "metadata": {},
   "outputs": [
    {
     "data": {
      "image/png": "[encoded data removed]",
      "text/plain": [
       "<Figure size 432x288 with 2 Axes>"
      ]
     },
     "metadata": {
      "needs_background": "light"
     },
     "output_type": "display_data"
    }
   ],
   "source": [
    "display_confusion_matrix(y1_validate,naive1_pred)"
   ]
  },
  {
   "cell_type": "markdown",
   "id": "traditional-motion",
   "metadata": {},
   "source": [
    "# ROC AUC curve"
   ]
  },
  {
   "cell_type": "code",
   "execution_count": 236,
   "id": "spanish-guyana",
   "metadata": {},
   "outputs": [
    {
     "name": "stdout",
     "output_type": "stream",
     "text": [
      "No skill  : ROC AUC = 0.500\n",
      "Naive Bayes: ROC AUC = 0.935\n"
     ]
    },
    {
     "data": {
      "image/png": "[encoded data removed]",
      "text/plain": [
       "<Figure size 432x288 with 1 Axes>"
      ]
     },
     "metadata": {
      "needs_background": "light"
     },
     "output_type": "display_data"
    }
   ],
   "source": [
    "#Naive Bayes - dataset1\n",
    "display_roc_auc(y1_validate,naive1_pred,'Naive Bayes')"
   ]
  },
  {
   "cell_type": "markdown",
   "id": "strong-working",
   "metadata": {},
   "source": [
    "# F1-score"
   ]
  },
  {
   "cell_type": "code",
   "execution_count": 237,
   "id": "sublime-chart",
   "metadata": {},
   "outputs": [
    {
     "name": "stdout",
     "output_type": "stream",
     "text": [
      "Naive Bayes : F1-score = 0.935 \n"
     ]
    }
   ],
   "source": [
    "naive1_f1_Score = f1_score(y1_validate,naive1_pred)\n",
    "print(\"Naive Bayes : F1-score = %.3f \"%naive1_f1_Score)"
   ]
  },
  {
   "cell_type": "markdown",
   "id": "turned-margin",
   "metadata": {},
   "source": [
    "# NB Model and Accuracy score - Dataset2"
   ]
  },
  {
   "cell_type": "code",
   "execution_count": 238,
   "id": "fitted-stick",
   "metadata": {},
   "outputs": [
    {
     "name": "stdout",
     "output_type": "stream",
     "text": [
      "alpha value -> %f  0.00304\n",
      "Naive Accuracy Score -> %f  96.84\n"
     ]
    }
   ],
   "source": [
    "#naive bayes for dataset2\n",
    "alpha_start = 0.00001 \n",
    "alpha_end = 0.1\n",
    "naive2_pred = max_accuracy_naive(vect_x2_train,y2_train,vect_x2_validate,y2_validate,x2_validate,alpha_start,alpha_end)"
   ]
  },
  {
   "cell_type": "markdown",
   "id": "residential-seven",
   "metadata": {},
   "source": [
    "# confusion matrics"
   ]
  },
  {
   "cell_type": "code",
   "execution_count": 239,
   "id": "constant-following",
   "metadata": {},
   "outputs": [
    {
     "data": {
      "image/png": "[encoded data removed]",
      "text/plain": [
       "<Figure size 432x288 with 2 Axes>"
      ]
     },
     "metadata": {
      "needs_background": "light"
     },
     "output_type": "display_data"
    }
   ],
   "source": [
    "display_confusion_matrix(y2_validate,naive2_pred)"
   ]
  },
  {
   "cell_type": "markdown",
   "id": "absolute-traffic",
   "metadata": {},
   "source": [
    "# ROC AUC curve"
   ]
  },
  {
   "cell_type": "code",
   "execution_count": 240,
   "id": "packed-lucas",
   "metadata": {},
   "outputs": [
    {
     "name": "stdout",
     "output_type": "stream",
     "text": [
      "No skill  : ROC AUC = 0.500\n",
      "Naive Bayes: ROC AUC = 0.964\n"
     ]
    },
    {
     "data": {
      "image/png": "[encoded data removed]",
      "text/plain": [
       "<Figure size 432x288 with 1 Axes>"
      ]
     },
     "metadata": {
      "needs_background": "light"
     },
     "output_type": "display_data"
    }
   ],
   "source": [
    "#Naive Bayes - dataset2\n",
    "display_roc_auc(y2_validate,naive2_pred,'Naive Bayes')"
   ]
  },
  {
   "cell_type": "markdown",
   "id": "grand-allocation",
   "metadata": {},
   "source": [
    "# F1-Score"
   ]
  },
  {
   "cell_type": "code",
   "execution_count": 241,
   "id": "substantial-celebrity",
   "metadata": {},
   "outputs": [
    {
     "name": "stdout",
     "output_type": "stream",
     "text": [
      "Naive Bayes : F1-score = 0.963 \n"
     ]
    }
   ],
   "source": [
    "naive2_f1_Score = f1_score(y2_validate,naive2_pred)\n",
    "print(\"Naive Bayes : F1-score = %.3f \"%naive2_f1_Score)"
   ]
  },
  {
   "cell_type": "markdown",
   "id": "interpreted-equivalent",
   "metadata": {},
   "source": [
    "# NB model and Accuracy score - Dataset2 (alpha - 0.0001)"
   ]
  },
  {
   "cell_type": "code",
   "execution_count": 242,
   "id": "confident-logic",
   "metadata": {},
   "outputs": [
    {
     "name": "stdout",
     "output_type": "stream",
     "text": [
      "Naive Bayes Accuracy Score ->  97.03\n"
     ]
    }
   ],
   "source": [
    "naive2=naive_bayes.MultinomialNB(alpha=0.0001)\n",
    "naive2.fit(vect_x2_train,y2_train)\n",
    "naive2_pred=naive2.predict(vect_x2_validate)\n",
    "print(\"Naive Bayes Accuracy Score -> \",round(accuracy_score(naive2_pred, y2_validate)*100,2))"
   ]
  },
  {
   "cell_type": "markdown",
   "id": "after-stability",
   "metadata": {},
   "source": [
    "# confusion matrics"
   ]
  },
  {
   "cell_type": "code",
   "execution_count": 243,
   "id": "steady-kentucky",
   "metadata": {},
   "outputs": [
    {
     "data": {
      "image/png": "[encoded data removed]",
      "text/plain": [
       "<Figure size 432x288 with 2 Axes>"
      ]
     },
     "metadata": {
      "needs_background": "light"
     },
     "output_type": "display_data"
    }
   ],
   "source": [
    "display_confusion_matrix(y2_validate,naive2_pred)"
   ]
  },
  {
   "cell_type": "markdown",
   "id": "dimensional-enclosure",
   "metadata": {},
   "source": [
    "# ROC AUC"
   ]
  },
  {
   "cell_type": "code",
   "execution_count": 244,
   "id": "complicated-binary",
   "metadata": {},
   "outputs": [
    {
     "name": "stdout",
     "output_type": "stream",
     "text": [
      "No skill  : ROC AUC = 0.500\n",
      "Naive Bayes: ROC AUC = 0.970\n"
     ]
    },
    {
     "data": {
      "image/png": "[encoded data removed]",
      "text/plain": [
       "<Figure size 432x288 with 1 Axes>"
      ]
     },
     "metadata": {
      "needs_background": "light"
     },
     "output_type": "display_data"
    }
   ],
   "source": [
    "#Naive Bayes - dataset1\n",
    "display_roc_auc(y2_validate,naive2_pred,'Naive Bayes')"
   ]
  },
  {
   "cell_type": "markdown",
   "id": "greatest-daisy",
   "metadata": {},
   "source": [
    "# F1-score"
   ]
  },
  {
   "cell_type": "code",
   "execution_count": 245,
   "id": "egyptian-marathon",
   "metadata": {},
   "outputs": [
    {
     "name": "stdout",
     "output_type": "stream",
     "text": [
      "Naive Bayes : F1-score = 0.968 \n"
     ]
    }
   ],
   "source": [
    "naive2_f1_Score = f1_score(y2_validate,naive2_pred)\n",
    "print(\"Naive Bayes : F1-score = %.3f \"%naive2_f1_Score)"
   ]
  },
  {
   "cell_type": "code",
   "execution_count": 246,
   "id": "bronze-david",
   "metadata": {},
   "outputs": [
    {
     "name": "stdout",
     "output_type": "stream",
     "text": [
      "Naive Bayes Accuracy Score ->  94.43\n",
      "Naive Bayes : F1-score = 0.967 \n"
     ]
    }
   ],
   "source": [
    "#for dataset3\n",
    "naive3=naive_bayes.MultinomialNB(alpha=0.00001)\n",
    "naive3.fit(vect_x3_train,y3_train)\n",
    "naive3_pred=naive3.predict(vect_x3_validate)\n",
    "print(\"Naive Bayes Accuracy Score -> \",round(accuracy_score(naive3_pred, y3_validate)*100,2))\n",
    "naive3_f1_Score = f1_score(y3_validate,naive3_pred)\n",
    "print(\"Naive Bayes : F1-score = %.3f \"%naive3_f1_Score)"
   ]
  },
  {
   "cell_type": "markdown",
   "id": "brazilian-return",
   "metadata": {},
   "source": [
    "# [Part A - Model3] LR - Logistic Regression Classifier and Evaluation Mathods"
   ]
  },
  {
   "cell_type": "markdown",
   "id": "effective-locator",
   "metadata": {},
   "source": [
    "# LR model and accuracy score - dataset1"
   ]
  },
  {
   "cell_type": "code",
   "execution_count": 52,
   "id": "mighty-chemistry",
   "metadata": {},
   "outputs": [
    {
     "name": "stdout",
     "output_type": "stream",
     "text": [
      "logistic regression Accuracy Score ->  95.43\n"
     ]
    }
   ],
   "source": [
    "#for dataset1\n",
    "lr1_model = LogisticRegression(solver='lbfgs',random_state=10,C=10.0) \n",
    "lr1_model.fit(vect_x1_train,y1_train)\n",
    "lr1_pred=lr1_model.predict(vect_x1_validate)\n",
    "print(\"logistic regression Accuracy Score -> \",round(accuracy_score(lr1_pred, y1_validate)*100,2))"
   ]
  },
  {
   "cell_type": "markdown",
   "id": "separate-gregory",
   "metadata": {},
   "source": [
    "# confusion matrics"
   ]
  },
  {
   "cell_type": "code",
   "execution_count": 248,
   "id": "loved-speaker",
   "metadata": {},
   "outputs": [
    {
     "data": {
      "image/png": "[encoded data removed]",
      "text/plain": [
       "<Figure size 432x288 with 2 Axes>"
      ]
     },
     "metadata": {
      "needs_background": "light"
     },
     "output_type": "display_data"
    }
   ],
   "source": [
    "display_confusion_matrix(lr1_pred,y1_validate)"
   ]
  },
  {
   "cell_type": "markdown",
   "id": "noted-coast",
   "metadata": {},
   "source": [
    "# ROC AUC"
   ]
  },
  {
   "cell_type": "code",
   "execution_count": 249,
   "id": "characteristic-documentation",
   "metadata": {},
   "outputs": [
    {
     "name": "stdout",
     "output_type": "stream",
     "text": [
      "No skill  : ROC AUC = 0.500\n",
      "Logistic Regression: ROC AUC = 0.955\n"
     ]
    },
    {
     "data": {
      "image/png": "[encoded data removed]",
      "text/plain": [
       "<Figure size 432x288 with 1 Axes>"
      ]
     },
     "metadata": {
      "needs_background": "light"
     },
     "output_type": "display_data"
    }
   ],
   "source": [
    "#Logistic Regression - dataset1\n",
    "display_roc_auc(y1_validate,lr1_pred,'Logistic Regression')"
   ]
  },
  {
   "cell_type": "markdown",
   "id": "modified-baseline",
   "metadata": {},
   "source": [
    "# F1-score"
   ]
  },
  {
   "cell_type": "code",
   "execution_count": 250,
   "id": "adequate-least",
   "metadata": {},
   "outputs": [
    {
     "name": "stdout",
     "output_type": "stream",
     "text": [
      "Logistic Regression : F1-score = 0.956 \n"
     ]
    }
   ],
   "source": [
    "lr1_f1_Score = f1_score(y1_validate,lr1_pred)\n",
    "print(\"Logistic Regression : F1-score = %.3f \"%lr1_f1_Score)"
   ]
  },
  {
   "cell_type": "markdown",
   "id": "existing-mouth",
   "metadata": {},
   "source": [
    "# LR model and accuracy score - Dataset2"
   ]
  },
  {
   "cell_type": "code",
   "execution_count": 56,
   "id": "stupid-holiday",
   "metadata": {},
   "outputs": [
    {
     "name": "stdout",
     "output_type": "stream",
     "text": [
      "logistic regression Accuracy Score ->  99.55\n"
     ]
    }
   ],
   "source": [
    "#for dataset2\n",
    "lr2_model = LogisticRegression(solver='liblinear',random_state=10,C=1.0)\n",
    "lr2_model.fit(vect_x2_train,y2_train)\n",
    "lr2_pred=lr2_model.predict(vect_x2_validate)\n",
    "print(\"logistic regression Accuracy Score -> \",round(accuracy_score(lr2_pred, y2_validate)*100,2))"
   ]
  },
  {
   "cell_type": "markdown",
   "id": "apparent-local",
   "metadata": {},
   "source": [
    "# Confusion Matrics"
   ]
  },
  {
   "cell_type": "code",
   "execution_count": 252,
   "id": "pacific-married",
   "metadata": {},
   "outputs": [
    {
     "data": {
      "image/png": "[encoded data removed]",
      "text/plain": [
       "<Figure size 432x288 with 2 Axes>"
      ]
     },
     "metadata": {
      "needs_background": "light"
     },
     "output_type": "display_data"
    }
   ],
   "source": [
    "display_confusion_matrix(lr2_pred,y2_validate)"
   ]
  },
  {
   "cell_type": "markdown",
   "id": "national-entertainment",
   "metadata": {},
   "source": [
    "# ROC AUC"
   ]
  },
  {
   "cell_type": "code",
   "execution_count": 253,
   "id": "educational-failure",
   "metadata": {},
   "outputs": [
    {
     "name": "stdout",
     "output_type": "stream",
     "text": [
      "No skill  : ROC AUC = 0.500\n",
      "Logistic Regression: ROC AUC = 0.995\n"
     ]
    },
    {
     "data": {
      "image/png": "[encoded data removed]",
      "text/plain": [
       "<Figure size 432x288 with 1 Axes>"
      ]
     },
     "metadata": {
      "needs_background": "light"
     },
     "output_type": "display_data"
    }
   ],
   "source": [
    "#Logistic Regression - dataset2\n",
    "display_roc_auc(y2_validate,lr2_pred,'Logistic Regression')"
   ]
  },
  {
   "cell_type": "markdown",
   "id": "greater-graphic",
   "metadata": {},
   "source": [
    "# F1-score"
   ]
  },
  {
   "cell_type": "code",
   "execution_count": 254,
   "id": "textile-guarantee",
   "metadata": {},
   "outputs": [
    {
     "name": "stdout",
     "output_type": "stream",
     "text": [
      "PassiveAggressive : F1-score = 0.995 \n"
     ]
    }
   ],
   "source": [
    "lr2_f1_Score = f1_score(y2_validate,lr2_pred)\n",
    "print(\"PassiveAggressive : F1-score = %.3f \"%lr2_f1_Score)"
   ]
  },
  {
   "cell_type": "code",
   "execution_count": 261,
   "id": "senior-reminder",
   "metadata": {},
   "outputs": [
    {
     "name": "stdout",
     "output_type": "stream",
     "text": [
      "logistic regression Accuracy Score ->  96.59\n",
      "PassiveAggressive : F1-score = 0.980 \n"
     ]
    },
    {
     "data": {
      "image/png": "[encoded data removed]",
      "text/plain": [
       "<Figure size 432x288 with 2 Axes>"
      ]
     },
     "metadata": {
      "needs_background": "light"
     },
     "output_type": "display_data"
    }
   ],
   "source": [
    "#for dataset3\n",
    "lr3_model = LogisticRegression(solver='liblinear',random_state=10,C=1.0) \n",
    "lr3_model.fit(vect_x3_train,y3_train)\n",
    "lr3_pred=lr3_model.predict(vect_x3_validate)\n",
    "print(\"logistic regression Accuracy Score -> \",round(accuracy_score(lr3_pred, y3_validate)*100,2))\n",
    "lr3_f1_Score = f1_score(y3_validate,lr3_pred)\n",
    "print(\"PassiveAggressive : F1-score = %.3f \"%lr3_f1_Score)\n",
    "display_confusion_matrix(lr3_pred,y3_validate)"
   ]
  },
  {
   "cell_type": "markdown",
   "id": "velvet-explorer",
   "metadata": {},
   "source": [
    "# [Part A - Model 4] SVM - Support Vector Machine and model evaluation"
   ]
  },
  {
   "cell_type": "markdown",
   "id": "printable-murray",
   "metadata": {},
   "source": [
    "# SVM model and accuracy score - dataset1"
   ]
  },
  {
   "cell_type": "code",
   "execution_count": 108,
   "id": "frozen-monte",
   "metadata": {},
   "outputs": [
    {
     "name": "stdout",
     "output_type": "stream",
     "text": [
      "SVM Accuracy Score ->  94.78\n"
     ]
    }
   ],
   "source": [
    "#for dataset1\n",
    "SVM1=svm.SVC(C=0.1,kernel='linear',cache_size=800)\n",
    "SVM1.fit(vect_x1_train,y1_train)\n",
    "svm1_pred=SVM1.predict(vect_x1_validate)\n",
    "print(\"SVM Accuracy Score -> \",round(accuracy_score(svm1_pred, y1_validate)*100,2))"
   ]
  },
  {
   "cell_type": "markdown",
   "id": "varied-monte",
   "metadata": {},
   "source": [
    "# confusion matrics"
   ]
  },
  {
   "cell_type": "code",
   "execution_count": 109,
   "id": "dutch-substance",
   "metadata": {},
   "outputs": [
    {
     "data": {
      "image/png": "[encoded data removed]",
      "text/plain": [
       "<Figure size 432x288 with 2 Axes>"
      ]
     },
     "metadata": {
      "needs_background": "light"
     },
     "output_type": "display_data"
    }
   ],
   "source": [
    "display_confusion_matrix(svm1_pred,y1_validate)"
   ]
  },
  {
   "cell_type": "markdown",
   "id": "sophisticated-teens",
   "metadata": {},
   "source": [
    "# ROC AUC"
   ]
  },
  {
   "cell_type": "code",
   "execution_count": 110,
   "id": "departmental-safety",
   "metadata": {},
   "outputs": [
    {
     "name": "stdout",
     "output_type": "stream",
     "text": [
      "No skill  : ROC AUC = 0.500\n",
      "SVM: ROC AUC = 0.948\n"
     ]
    },
    {
     "data": {
      "image/png": "[encoded data removed]",
      "text/plain": [
       "<Figure size 432x288 with 1 Axes>"
      ]
     },
     "metadata": {
      "needs_background": "light"
     },
     "output_type": "display_data"
    }
   ],
   "source": [
    "#SVM - dataset1\n",
    "display_roc_auc(y1_validate,svm1_pred,'SVM')"
   ]
  },
  {
   "cell_type": "markdown",
   "id": "silver-macro",
   "metadata": {},
   "source": [
    "# F1-Score"
   ]
  },
  {
   "cell_type": "code",
   "execution_count": 111,
   "id": "silver-assurance",
   "metadata": {},
   "outputs": [
    {
     "name": "stdout",
     "output_type": "stream",
     "text": [
      "SVM : F1-score = 0.950 \n"
     ]
    }
   ],
   "source": [
    "svm1_f1_Score = f1_score(y1_validate,svm1_pred)\n",
    "print(\"SVM : F1-score = %.3f \"%svm1_f1_Score)"
   ]
  },
  {
   "cell_type": "markdown",
   "id": "stone-frank",
   "metadata": {},
   "source": [
    "# SVM model and accuracy score - dataset2"
   ]
  },
  {
   "cell_type": "code",
   "execution_count": null,
   "id": "amended-halloween",
   "metadata": {},
   "outputs": [],
   "source": [
    "#for dataset2\n",
    "SVM2=svm.SVC(C=1.0,kernel='linear',cache_size=800)\n",
    "SVM2.fit(vect_x2_train,y2_train)\n",
    "svm2_pred=SVM2.predict(vect_x2_validate)\n",
    "print(\"SVM Accuracy Score -> \",round(accuracy_score(svm2_pred, y2_validate)*100,2))"
   ]
  },
  {
   "cell_type": "markdown",
   "id": "blocked-museum",
   "metadata": {},
   "source": [
    "# confusion matrics"
   ]
  },
  {
   "cell_type": "code",
   "execution_count": null,
   "id": "continuous-contrary",
   "metadata": {},
   "outputs": [],
   "source": [
    "display_confusion_matrix(svm2_pred,y2_validate)"
   ]
  },
  {
   "cell_type": "markdown",
   "id": "social-inspector",
   "metadata": {},
   "source": [
    "# ROC AUC"
   ]
  },
  {
   "cell_type": "code",
   "execution_count": null,
   "id": "engaging-sympathy",
   "metadata": {},
   "outputs": [],
   "source": [
    "#SVM - dataset2\n",
    "display_roc_auc(y2_validate,svm2_pred,'SVM')"
   ]
  },
  {
   "cell_type": "markdown",
   "id": "charming-jaguar",
   "metadata": {},
   "source": [
    "# F1-score"
   ]
  },
  {
   "cell_type": "code",
   "execution_count": null,
   "id": "alien-discretion",
   "metadata": {},
   "outputs": [],
   "source": [
    "svm2_f1_Score = f1_score(y2_validate,svm2_pred)\n",
    "print(\"SVM : F1-score = %.3f \"%svm2_f1_Score)"
   ]
  },
  {
   "cell_type": "code",
   "execution_count": 257,
   "id": "quick-dallas",
   "metadata": {},
   "outputs": [
    {
     "name": "stdout",
     "output_type": "stream",
     "text": [
      "SVM Accuracy Score ->  96.1\n",
      "SVM : F1-score = 0.977 \n"
     ]
    }
   ],
   "source": [
    "#for dataset3\n",
    "SVM3=svm.SVC(C=1.0,kernel='linear',cache_size=800)\n",
    "SVM3.fit(vect_x3_train,y3_train)\n",
    "svm3_pred=SVM3.predict(vect_x3_validate)\n",
    "print(\"SVM Accuracy Score -> \",round(accuracy_score(svm3_pred, y3_validate)*100,2))\n",
    "svm3_f1_Score = f1_score(y3_validate,svm3_pred)\n",
    "print(\"SVM : F1-score = %.3f \"%svm3_f1_Score)"
   ]
  },
  {
   "cell_type": "markdown",
   "id": "potential-press",
   "metadata": {},
   "source": [
    "# Part B - Vectorizing and applying TF-IDF"
   ]
  },
  {
   "cell_type": "code",
   "execution_count": 58,
   "id": "choice-intervention",
   "metadata": {},
   "outputs": [],
   "source": [
    "#dataset1\n",
    "tfidf_vectorizer1 = TfidfVectorizer(stop_words='english',analyzer='word',max_df=0.8)\n",
    "tfidf1_train = tfidf_vectorizer1.fit_transform(x1_train)\n",
    "tfidf1_validate =tfidf_vectorizer1.transform(x1_validate)\n",
    "\n",
    "#dataset2\n",
    "tfidf_vectorizer2 = TfidfVectorizer(stop_words='english',analyzer='word',max_df=0.8)\n",
    "tfidf2_train = tfidf_vectorizer2.fit_transform(x2_train)\n",
    "tfidf2_validate=tfidf_vectorizer2.transform(x2_validate)\n",
    "# print(tfidf_vectorizer.vocabulary_)\n",
    "# print(tfidf_train)\n",
    "\n",
    "#dataset3\n",
    "tfidf_vectorizer3 = TfidfVectorizer(stop_words='english',analyzer='word',max_df=0.8)\n",
    "tfidf3_train = tfidf_vectorizer3.fit_transform(x3_train)\n",
    "tfidf3_validate=tfidf_vectorizer3.transform(x3_validate)"
   ]
  },
  {
   "cell_type": "markdown",
   "id": "toxic-fourth",
   "metadata": {},
   "source": [
    "# [Part B-Model1] PAC - PassiveAggressive Classifier"
   ]
  },
  {
   "cell_type": "markdown",
   "id": "compound-correction",
   "metadata": {},
   "source": [
    "# PAC model and accuracy score - Dataset1"
   ]
  },
  {
   "cell_type": "code",
   "execution_count": 263,
   "id": "trained-person",
   "metadata": {},
   "outputs": [
    {
     "name": "stdout",
     "output_type": "stream",
     "text": [
      "PassiveAggressive Accuracy Score ->  96.23\n"
     ]
    }
   ],
   "source": [
    "#passiveaggressive classifier for dataset1\n",
    "pac1=PassiveAggressiveClassifier(C=1.0,random_state=5,max_iter=1000)\n",
    "pac1.fit(tfidf1_train,y1_train)\n",
    "pac1_pred=pac1.predict(tfidf1_validate)\n",
    "score= accuracy_score(y1_validate,pac1_pred)\n",
    "print(\"PassiveAggressive Accuracy Score -> \",round(accuracy_score(pac1_pred, y1_validate)*100,2))"
   ]
  },
  {
   "cell_type": "markdown",
   "id": "tracked-contamination",
   "metadata": {},
   "source": [
    "# confusion matrix"
   ]
  },
  {
   "cell_type": "code",
   "execution_count": 264,
   "id": "religious-venue",
   "metadata": {},
   "outputs": [
    {
     "data": {
      "image/png": "[encoded data removed]",
      "text/plain": [
       "<Figure size 432x288 with 2 Axes>"
      ]
     },
     "metadata": {
      "needs_background": "light"
     },
     "output_type": "display_data"
    }
   ],
   "source": [
    "display_confusion_matrix(y1_validate,pac1_pred)"
   ]
  },
  {
   "cell_type": "markdown",
   "id": "blank-athens",
   "metadata": {},
   "source": [
    "# ROC AUC"
   ]
  },
  {
   "cell_type": "code",
   "execution_count": 265,
   "id": "artistic-recall",
   "metadata": {},
   "outputs": [
    {
     "name": "stdout",
     "output_type": "stream",
     "text": [
      "No skill  : ROC AUC = 0.500\n",
      "PassiveAggressive: ROC AUC = 0.962\n"
     ]
    },
    {
     "data": {
      "image/png": "[encoded data removed]",
      "text/plain": [
       "<Figure size 432x288 with 1 Axes>"
      ]
     },
     "metadata": {
      "needs_background": "light"
     },
     "output_type": "display_data"
    }
   ],
   "source": [
    "display_roc_auc(y1_validate,pac1_pred,'PassiveAggressive')"
   ]
  },
  {
   "cell_type": "markdown",
   "id": "saving-windsor",
   "metadata": {},
   "source": [
    "# F1-score"
   ]
  },
  {
   "cell_type": "code",
   "execution_count": 266,
   "id": "imperial-mattress",
   "metadata": {},
   "outputs": [
    {
     "name": "stdout",
     "output_type": "stream",
     "text": [
      "PassiveAggressive : F1-score = 0.964 \n"
     ]
    }
   ],
   "source": [
    "pac1_f1_Score = f1_score(y1_validate,pac1_pred)\n",
    "print(\"PassiveAggressive : F1-score = %.3f \"%pac1_f1_Score)"
   ]
  },
  {
   "cell_type": "markdown",
   "id": "separated-custody",
   "metadata": {},
   "source": [
    "# PAC model and accuracy score - dataset2"
   ]
  },
  {
   "cell_type": "code",
   "execution_count": 267,
   "id": "thousand-trinidad",
   "metadata": {},
   "outputs": [
    {
     "name": "stdout",
     "output_type": "stream",
     "text": [
      "PassiveAggressive Accuracy Score ->  97.69\n"
     ]
    }
   ],
   "source": [
    "#passiveaggressive classifier for dataset2\n",
    "pac2=PassiveAggressiveClassifier(C=0.001,random_state=5,max_iter=1000)\n",
    "pac2.fit(tfidf2_train,y2_train)\n",
    "pac2_pred=pac2.predict(tfidf2_validate)\n",
    "score= accuracy_score(y2_validate,pac2_pred)\n",
    "print(\"PassiveAggressive Accuracy Score -> \",round(accuracy_score(pac2_pred, y2_validate)*100,2))"
   ]
  },
  {
   "cell_type": "markdown",
   "id": "imperial-startup",
   "metadata": {},
   "source": [
    "# confusion matrix"
   ]
  },
  {
   "cell_type": "code",
   "execution_count": 268,
   "id": "proved-above",
   "metadata": {},
   "outputs": [
    {
     "data": {
      "image/png": "[encoded data removed]",
      "text/plain": [
       "<Figure size 432x288 with 2 Axes>"
      ]
     },
     "metadata": {
      "needs_background": "light"
     },
     "output_type": "display_data"
    }
   ],
   "source": [
    "display_confusion_matrix(y2_validate,pac2_pred)"
   ]
  },
  {
   "cell_type": "markdown",
   "id": "detailed-vienna",
   "metadata": {},
   "source": [
    "# ROC AUC"
   ]
  },
  {
   "cell_type": "code",
   "execution_count": 269,
   "id": "abroad-absence",
   "metadata": {},
   "outputs": [
    {
     "name": "stdout",
     "output_type": "stream",
     "text": [
      "No skill  : ROC AUC = 0.500\n",
      "PassiveAggressive: ROC AUC = 0.977\n"
     ]
    },
    {
     "data": {
      "image/png": "[encoded data removed]",
      "text/plain": [
       "<Figure size 432x288 with 1 Axes>"
      ]
     },
     "metadata": {
      "needs_background": "light"
     },
     "output_type": "display_data"
    }
   ],
   "source": [
    "display_roc_auc(y2_validate,pac2_pred,'PassiveAggressive')"
   ]
  },
  {
   "cell_type": "markdown",
   "id": "corporate-heavy",
   "metadata": {},
   "source": [
    "# F1-score"
   ]
  },
  {
   "cell_type": "code",
   "execution_count": 270,
   "id": "uniform-missile",
   "metadata": {},
   "outputs": [
    {
     "name": "stdout",
     "output_type": "stream",
     "text": [
      "PassiveAggressive : F1-score = 0.976 \n"
     ]
    }
   ],
   "source": [
    "pac2_f1_Score = f1_score(y2_validate,pac2_pred)\n",
    "print(\"PassiveAggressive : F1-score = %.3f \"%pac2_f1_Score)"
   ]
  },
  {
   "cell_type": "code",
   "execution_count": 272,
   "id": "round-metallic",
   "metadata": {},
   "outputs": [
    {
     "name": "stdout",
     "output_type": "stream",
     "text": [
      "PassiveAggressive Accuracy Score ->  96.99\n",
      "PassiveAggressive : F1-score = 0.982 \n"
     ]
    }
   ],
   "source": [
    "#dataset3 imbalanced\n",
    "pac3=PassiveAggressiveClassifier(C=1.0,random_state=5,max_iter=1000)\n",
    "pac3.fit(tfidf3_train,y3_train)\n",
    "pac3_pred=pac3.predict(tfidf3_validate)\n",
    "score= accuracy_score(y3_validate,pac3_pred)\n",
    "print(\"PassiveAggressive Accuracy Score -> \",round(accuracy_score(pac3_pred, y3_validate)*100,2))\n",
    "pac3_f1_Score = f1_score(y3_validate,pac3_pred)\n",
    "print(\"PassiveAggressive : F1-score = %.3f \"%pac3_f1_Score)"
   ]
  },
  {
   "cell_type": "markdown",
   "id": "attached-satisfaction",
   "metadata": {},
   "source": [
    "# [Part B - Model2] NB - Naive Bayes Classifier and model evaluation"
   ]
  },
  {
   "cell_type": "markdown",
   "id": "occasional-commander",
   "metadata": {},
   "source": [
    "# NB model and accuracy score for dataset1"
   ]
  },
  {
   "cell_type": "code",
   "execution_count": null,
   "id": "inside-heavy",
   "metadata": {},
   "outputs": [],
   "source": [
    "#for dataset1\n",
    "alpha_start = 0.00001 \n",
    "alpha_end = 0.01\n",
    "naive1_pred = max_accuracy_naive(tfidf1_train,y1_train,tfidf1_validate,y1_validate,x1_validate,alpha_start,alpha_end)"
   ]
  },
  {
   "cell_type": "markdown",
   "id": "starting-proposal",
   "metadata": {},
   "source": [
    "# confusion matrix"
   ]
  },
  {
   "cell_type": "code",
   "execution_count": null,
   "id": "suited-montgomery",
   "metadata": {},
   "outputs": [],
   "source": [
    "display_confusion_matrix(y1_validate,naive1_pred)"
   ]
  },
  {
   "cell_type": "markdown",
   "id": "affecting-alexander",
   "metadata": {},
   "source": [
    "# ROC AUC"
   ]
  },
  {
   "cell_type": "code",
   "execution_count": null,
   "id": "reflected-residence",
   "metadata": {},
   "outputs": [],
   "source": [
    "#Naive Bayes - dataset1\n",
    "display_roc_auc(y1_validate,naive1_pred,'Naive Bayes')"
   ]
  },
  {
   "cell_type": "markdown",
   "id": "julian-subcommittee",
   "metadata": {},
   "source": [
    "# F1-score"
   ]
  },
  {
   "cell_type": "code",
   "execution_count": null,
   "id": "interested-midnight",
   "metadata": {},
   "outputs": [],
   "source": [
    "naive1_f1_Score = f1_score(y1_validate,naive1_pred)\n",
    "print(\"Naive Bayes : F1-score = %.3f \"%naive1_f1_Score)"
   ]
  },
  {
   "cell_type": "markdown",
   "id": "metropolitan-archives",
   "metadata": {},
   "source": [
    "# NB model and accuracy score for dataset1 (alpha = 0.0025)"
   ]
  },
  {
   "cell_type": "code",
   "execution_count": null,
   "id": "piano-cameroon",
   "metadata": {},
   "outputs": [],
   "source": [
    "naive1=naive_bayes.MultinomialNB(alpha=0.00007)\n",
    "naive1.fit(tfidf1_train,y1_train)\n",
    "naive1_pred=naive1.predict(tfidf1_validate)\n",
    "print(\"Naive Bayes Accuracy Score -> \",round(accuracy_score(naive1_pred, y1_validate)*100,2))"
   ]
  },
  {
   "cell_type": "markdown",
   "id": "copyrighted-interference",
   "metadata": {},
   "source": [
    "# confusion matrix"
   ]
  },
  {
   "cell_type": "code",
   "execution_count": null,
   "id": "important-million",
   "metadata": {},
   "outputs": [],
   "source": [
    "display_confusion_matrix(y1_validate,naive1_pred)"
   ]
  },
  {
   "cell_type": "markdown",
   "id": "constitutional-algeria",
   "metadata": {},
   "source": [
    "# ROC AUC"
   ]
  },
  {
   "cell_type": "code",
   "execution_count": null,
   "id": "floral-cornwall",
   "metadata": {},
   "outputs": [],
   "source": [
    "display_roc_auc(y1_validate,naive1_pred,'Naive Bayes')"
   ]
  },
  {
   "cell_type": "markdown",
   "id": "graphic-gender",
   "metadata": {},
   "source": [
    "# F1-score"
   ]
  },
  {
   "cell_type": "code",
   "execution_count": null,
   "id": "metropolitan-upper",
   "metadata": {},
   "outputs": [],
   "source": [
    "naive1_f1_Score = f1_score(y1_validate,naive1_pred)\n",
    "print(\"Naive Bayes : F1-score = %.3f \"%naive1_f1_Score)"
   ]
  },
  {
   "cell_type": "markdown",
   "id": "major-gazette",
   "metadata": {},
   "source": [
    "# NB model and accuracy score for dataset2"
   ]
  },
  {
   "cell_type": "code",
   "execution_count": null,
   "id": "intellectual-salem",
   "metadata": {},
   "outputs": [],
   "source": [
    "#for dataset2\n",
    "alpha_start = 0.00001 \n",
    "alpha_end = 0.1\n",
    "naive2_pred = max_accuracy_naive(tfidf2_train,y2_train,tfidf2_validate,y2_validate,x2_validate,alpha_start,alpha_end)"
   ]
  },
  {
   "cell_type": "markdown",
   "id": "ready-appliance",
   "metadata": {},
   "source": [
    "# confusion metrix"
   ]
  },
  {
   "cell_type": "code",
   "execution_count": null,
   "id": "contained-retreat",
   "metadata": {},
   "outputs": [],
   "source": [
    "display_confusion_matrix(y2_validate,naive2_pred)"
   ]
  },
  {
   "cell_type": "markdown",
   "id": "organizational-soundtrack",
   "metadata": {},
   "source": [
    "# ROC AUC"
   ]
  },
  {
   "cell_type": "code",
   "execution_count": null,
   "id": "royal-personal",
   "metadata": {},
   "outputs": [],
   "source": [
    "display_roc_auc(y2_validate,naive2_pred,'Naive Bayes')"
   ]
  },
  {
   "cell_type": "markdown",
   "id": "fossil-newport",
   "metadata": {},
   "source": [
    "# F1-score"
   ]
  },
  {
   "cell_type": "code",
   "execution_count": null,
   "id": "conscious-perspective",
   "metadata": {},
   "outputs": [],
   "source": [
    "naive2_f1_Score = f1_score(y2_validate,naive2_pred)\n",
    "print(\"Naive Bayes : F1-score = %.3f \"%naive2_f1_Score)"
   ]
  },
  {
   "cell_type": "markdown",
   "id": "appointed-worker",
   "metadata": {},
   "source": [
    "# NB model and accuracy score - dataset2 (alpha = 0.0001)"
   ]
  },
  {
   "cell_type": "code",
   "execution_count": null,
   "id": "available-advance",
   "metadata": {},
   "outputs": [],
   "source": [
    "naive2=naive_bayes.MultinomialNB(alpha=0.0001)\n",
    "naive2.fit(tfidf2_train,y2_train)\n",
    "naive2_pred=naive2.predict(tfidf2_validate)\n",
    "print(\"Naive Bayes Accuracy Score -> \",round(accuracy_score(naive2_pred, y2_validate)*100,2))"
   ]
  },
  {
   "cell_type": "markdown",
   "id": "verbal-plenty",
   "metadata": {},
   "source": [
    "# confusion matrix"
   ]
  },
  {
   "cell_type": "code",
   "execution_count": null,
   "id": "nominated-possible",
   "metadata": {},
   "outputs": [],
   "source": [
    "display_confusion_matrix(y2_validate,naive2_pred)"
   ]
  },
  {
   "cell_type": "markdown",
   "id": "worst-slope",
   "metadata": {},
   "source": [
    "# ROC AUC "
   ]
  },
  {
   "cell_type": "code",
   "execution_count": null,
   "id": "industrial-casting",
   "metadata": {},
   "outputs": [],
   "source": [
    "display_roc_auc(y2_validate,naive2_pred,'Naive Bayes')"
   ]
  },
  {
   "cell_type": "markdown",
   "id": "frequent-joyce",
   "metadata": {},
   "source": [
    "# F1-score"
   ]
  },
  {
   "cell_type": "code",
   "execution_count": null,
   "id": "abroad-angola",
   "metadata": {},
   "outputs": [],
   "source": [
    "naive2_f1_Score = f1_score(y2_validate,naive2_pred)\n",
    "print(\"Naive Bayes : F1-score = %.3f \"%naive2_f1_Score)"
   ]
  },
  {
   "cell_type": "code",
   "execution_count": 273,
   "id": "close-steps",
   "metadata": {},
   "outputs": [
    {
     "name": "stdout",
     "output_type": "stream",
     "text": [
      "Naive Bayes Accuracy Score ->  93.86\n",
      "Naive Bayes : F1-score = 0.965 \n"
     ]
    }
   ],
   "source": [
    "naive3=naive_bayes.MultinomialNB(alpha=0.00007)\n",
    "naive3.fit(tfidf3_train,y3_train)\n",
    "naive3_pred=naive3.predict(tfidf3_validate)\n",
    "print(\"Naive Bayes Accuracy Score -> \",round(accuracy_score(naive3_pred, y3_validate)*100,2))\n",
    "naive3_f1_Score = f1_score(y3_validate,naive3_pred)\n",
    "print(\"Naive Bayes : F1-score = %.3f \"%naive3_f1_Score)"
   ]
  },
  {
   "cell_type": "markdown",
   "id": "generous-rainbow",
   "metadata": {},
   "source": [
    "# [Part B - Model3] LR - Logistic Regression classifier and Model Evaluation"
   ]
  },
  {
   "cell_type": "markdown",
   "id": "liable-swing",
   "metadata": {},
   "source": [
    "# LR model and accuracy score - dataset1"
   ]
  },
  {
   "cell_type": "code",
   "execution_count": 67,
   "id": "worse-winning",
   "metadata": {},
   "outputs": [
    {
     "name": "stdout",
     "output_type": "stream",
     "text": [
      "logistic regression Accuracy Score ->  88.44\n"
     ]
    }
   ],
   "source": [
    "#for dataset1\n",
    "lr1_model = LogisticRegression(solver='liblinear',random_state=10,C=0.01)\n",
    "lr1_model.fit(tfidf1_train,y1_train)\n",
    "lr1_pred=lr1_model.predict(tfidf1_validate)\n",
    "print(\"logistic regression Accuracy Score -> \",round(accuracy_score(lr1_pred, y1_validate)*100,2))"
   ]
  },
  {
   "cell_type": "markdown",
   "id": "lucky-strand",
   "metadata": {},
   "source": [
    "# Confusion Matrix"
   ]
  },
  {
   "cell_type": "code",
   "execution_count": null,
   "id": "injured-incentive",
   "metadata": {},
   "outputs": [],
   "source": [
    "display_confusion_matrix(lr1_pred,y1_validate)"
   ]
  },
  {
   "cell_type": "markdown",
   "id": "shared-median",
   "metadata": {},
   "source": [
    "# ROC AUC"
   ]
  },
  {
   "cell_type": "code",
   "execution_count": null,
   "id": "future-antique",
   "metadata": {},
   "outputs": [],
   "source": [
    "display_roc_auc(y1_validate,lr1_pred,'Logistic Regression')"
   ]
  },
  {
   "cell_type": "markdown",
   "id": "american-wednesday",
   "metadata": {},
   "source": [
    "# F1-score"
   ]
  },
  {
   "cell_type": "code",
   "execution_count": null,
   "id": "lined-archive",
   "metadata": {},
   "outputs": [],
   "source": [
    "lr1_f1_Score = f1_score(y1_validate,lr1_pred)\n",
    "print(\"Logistic Regression : F1-score = %.3f \"%lr1_f1_Score)"
   ]
  },
  {
   "cell_type": "markdown",
   "id": "maritime-reply",
   "metadata": {},
   "source": [
    "# LR model and accuracy score for dataset2"
   ]
  },
  {
   "cell_type": "code",
   "execution_count": null,
   "id": "forty-museum",
   "metadata": {},
   "outputs": [],
   "source": [
    "#for dataset2\n",
    "lr2_model = LogisticRegression(solver='liblinear',random_state=10,C=20.0)\n",
    "lr2_model.fit(tfidf2_train,y2_train)\n",
    "lr2_pred=lr2_model.predict(tfidf2_validate)\n",
    "print(\"logistic regression Accuracy Score -> \",accuracy_score(lr2_pred, y2_validate)*100)"
   ]
  },
  {
   "cell_type": "markdown",
   "id": "endless-february",
   "metadata": {},
   "source": [
    "# Confusion matrix"
   ]
  },
  {
   "cell_type": "code",
   "execution_count": null,
   "id": "literary-occasion",
   "metadata": {},
   "outputs": [],
   "source": [
    "display_confusion_matrix(lr2_pred,y2_validate)"
   ]
  },
  {
   "cell_type": "markdown",
   "id": "positive-convenience",
   "metadata": {},
   "source": [
    "# ROC AUC"
   ]
  },
  {
   "cell_type": "code",
   "execution_count": null,
   "id": "seeing-psychiatry",
   "metadata": {},
   "outputs": [],
   "source": [
    "display_roc_auc(y2_validate,lr2_pred,'Logistic Regression')"
   ]
  },
  {
   "cell_type": "markdown",
   "id": "european-document",
   "metadata": {},
   "source": [
    "# F1-score"
   ]
  },
  {
   "cell_type": "code",
   "execution_count": null,
   "id": "analyzed-short",
   "metadata": {},
   "outputs": [],
   "source": [
    "lr2_f1_Score = f1_score(y2_validate,lr2_pred)\n",
    "print(\"Logistic Regression : F1-score = %.3f \"%lr2_f1_Score)"
   ]
  },
  {
   "cell_type": "code",
   "execution_count": 274,
   "id": "organizational-declaration",
   "metadata": {},
   "outputs": [
    {
     "name": "stdout",
     "output_type": "stream",
     "text": [
      "logistic regression Accuracy Score ->  96.01626016260163\n",
      "Logistic Regression : F1-score = 0.977 \n"
     ]
    }
   ],
   "source": [
    "#for dataset3\n",
    "lr3_model = LogisticRegression(solver='liblinear',random_state=10,C=20.0)\n",
    "lr3_model.fit(tfidf3_train,y3_train)\n",
    "lr3_pred=lr3_model.predict(tfidf3_validate)\n",
    "print(\"logistic regression Accuracy Score -> \",accuracy_score(lr3_pred, y3_validate)*100)\n",
    "lr3_f1_Score = f1_score(y3_validate,lr3_pred)\n",
    "print(\"Logistic Regression : F1-score = %.3f \"%lr3_f1_Score)"
   ]
  },
  {
   "cell_type": "markdown",
   "id": "contrary-language",
   "metadata": {},
   "source": [
    "# [Part B - Model 4] Support Vector Machine - SVM Classifier and evaluation methods"
   ]
  },
  {
   "cell_type": "markdown",
   "id": "moved-issue",
   "metadata": {},
   "source": [
    "# SVM and accuracy score for dataset1"
   ]
  },
  {
   "cell_type": "code",
   "execution_count": 61,
   "id": "acting-iraqi",
   "metadata": {},
   "outputs": [
    {
     "name": "stdout",
     "output_type": "stream",
     "text": [
      "SVM Accuracy Score ->  93.51\n"
     ]
    }
   ],
   "source": [
    "#for dataset1\n",
    "SVM1=svm.SVC(C=0.1,kernel='linear',cache_size=800)\n",
    "SVM1.fit(tfidf1_train,y1_train)\n",
    "svm1_pred=SVM1.predict(tfidf1_validate)\n",
    "print(\"SVM Accuracy Score -> \",round(accuracy_score(svm1_pred, y1_validate)*100,2))"
   ]
  },
  {
   "cell_type": "markdown",
   "id": "empirical-sympathy",
   "metadata": {},
   "source": [
    "# confusion matrix"
   ]
  },
  {
   "cell_type": "code",
   "execution_count": null,
   "id": "increased-chancellor",
   "metadata": {},
   "outputs": [],
   "source": [
    "display_confusion_matrix(svm1_pred,y1_validate)"
   ]
  },
  {
   "cell_type": "markdown",
   "id": "tested-dressing",
   "metadata": {},
   "source": [
    "# ROC AUC"
   ]
  },
  {
   "cell_type": "code",
   "execution_count": null,
   "id": "duplicate-vaccine",
   "metadata": {},
   "outputs": [],
   "source": [
    "display_roc_auc(y1_validate,svm1_pred,'SVM')"
   ]
  },
  {
   "cell_type": "markdown",
   "id": "renewable-stuff",
   "metadata": {},
   "source": [
    "# F1-Score"
   ]
  },
  {
   "cell_type": "code",
   "execution_count": null,
   "id": "lesbian-credits",
   "metadata": {},
   "outputs": [],
   "source": [
    "svm1_f1_Score = f1_score(y1_validate,svm1_pred)\n",
    "print(\"SVM : F1-score = %.3f \"%svm1_f1_Score)"
   ]
  },
  {
   "cell_type": "markdown",
   "id": "ordered-collar",
   "metadata": {},
   "source": [
    "# SVM and accuracy score - dataset2"
   ]
  },
  {
   "cell_type": "code",
   "execution_count": 64,
   "id": "conscious-alignment",
   "metadata": {},
   "outputs": [
    {
     "name": "stdout",
     "output_type": "stream",
     "text": [
      "SVM Accuracy Score ->  95.42\n"
     ]
    }
   ],
   "source": [
    "#for dataset2\n",
    "SVM2=svm.SVC(C=0.01,kernel='linear',cache_size=800)\n",
    "SVM2.fit(tfidf2_train,y2_train)\n",
    "svm2_pred=SVM2.predict(tfidf2_validate)\n",
    "print(\"SVM Accuracy Score -> \",round(accuracy_score(svm2_pred, y2_validate)*100,2))"
   ]
  },
  {
   "cell_type": "markdown",
   "id": "native-garden",
   "metadata": {},
   "source": [
    "# Confusion Matrix"
   ]
  },
  {
   "cell_type": "code",
   "execution_count": null,
   "id": "naked-steam",
   "metadata": {},
   "outputs": [],
   "source": [
    "display_confusion_matrix(svm2_pred,y2_validate)"
   ]
  },
  {
   "cell_type": "markdown",
   "id": "administrative-wichita",
   "metadata": {},
   "source": [
    "# ROC AUC"
   ]
  },
  {
   "cell_type": "code",
   "execution_count": null,
   "id": "bound-stocks",
   "metadata": {},
   "outputs": [],
   "source": [
    "display_roc_auc(y2_validate,svm2_pred,'SVM')"
   ]
  },
  {
   "cell_type": "markdown",
   "id": "simple-center",
   "metadata": {},
   "source": [
    "# F1-score"
   ]
  },
  {
   "cell_type": "code",
   "execution_count": null,
   "id": "loose-advice",
   "metadata": {},
   "outputs": [],
   "source": [
    "svm2_f1_Score = f1_score(y2_validate,svm2_pred)\n",
    "print(\"SVM : F1-score = %.3f \"%svm2_f1_Score)"
   ]
  },
  {
   "cell_type": "code",
   "execution_count": 275,
   "id": "animal-mechanics",
   "metadata": {},
   "outputs": [
    {
     "name": "stdout",
     "output_type": "stream",
     "text": [
      "SVM Accuracy Score ->  96.26016260162602\n",
      "SVM : F1-score = 0.978 \n"
     ]
    }
   ],
   "source": [
    "#for dataset3\n",
    "SVM3=svm.SVC(C=1.0,kernel='linear',cache_size=800)\n",
    "SVM3.fit(tfidf3_train,y3_train)\n",
    "svm3_pred=SVM3.predict(tfidf3_validate)\n",
    "print(\"SVM Accuracy Score -> \",accuracy_score(svm3_pred, y3_validate)*100)\n",
    "svm3_f1_Score = f1_score(y3_validate,svm3_pred)\n",
    "print(\"SVM : F1-score = %.3f \"%svm3_f1_Score)"
   ]
  }
 ],
 "metadata": {
  "kernelspec": {
   "display_name": "Python 3",
   "language": "python",
   "name": "python3"
  },
  "language_info": {
   "codemirror_mode": {
    "name": "ipython",
    "version": 3
   },
   "file_extension": ".py",
   "mimetype": "text/x-python",
   "name": "python",
   "nbconvert_exporter": "python",
   "pygments_lexer": "ipython3",
   "version": "3.9.0"
  }
 },
 "nbformat": 4,
 "nbformat_minor": 5
}
